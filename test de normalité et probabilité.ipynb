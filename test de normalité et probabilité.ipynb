{
 "cells": [
  {
   "attachments": {
    "logo.png": {
     "image/png": "[encoded data removed]"
    }
   },
   "cell_type": "markdown",
   "id": "efee49f2",
   "metadata": {},
   "source": [
    "<div>\n",
    "<img src=\"attachment:logo.png\" width=\"300\"/>\n",
    "</div>"
   ]
  },
  {
   "cell_type": "code",
   "execution_count": 1,
   "id": "a6afb3e0",
   "metadata": {},
   "outputs": [],
   "source": [
    "import pandas as pd\n",
    "import matplotlib.pyplot as plt"
   ]
  },
  {
   "cell_type": "code",
   "execution_count": 2,
   "id": "e3d2dcd8",
   "metadata": {},
   "outputs": [],
   "source": [
    "df = pd.read_csv('df_p6_final.csv',index_col = 0)"
   ]
  },
  {
   "cell_type": "markdown",
   "id": "1db414f5",
   "metadata": {},
   "source": [
    "Je retire mes 4 clients afin de ne pas biaiser les résultats de mes tests de corrélation."
   ]
  },
  {
   "cell_type": "code",
   "execution_count": 3,
   "id": "8f1c13fc",
   "metadata": {},
   "outputs": [],
   "source": [
    "df_4_clients = df.loc[(df['client_id'] == 'c_1609')|(df['client_id'] == 'c_4958')|(df['client_id'] == 'c_6714')|(df['client_id'] == 'c_3454')]"
   ]
  },
  {
   "cell_type": "code",
   "execution_count": 4,
   "id": "e8ce79ab",
   "metadata": {},
   "outputs": [],
   "source": [
    "df.drop( df[ (df['client_id'] == 'c_1609')|(df['client_id'] == 'c_4958')|(df['client_id'] == 'c_6714')|(df['client_id'] == 'c_3454')].index, inplace=True)"
   ]
  },
  {
   "cell_type": "markdown",
   "id": "3f1a85b3",
   "metadata": {},
   "source": [
    "# Test de corrélation : Sexe et Catégorie "
   ]
  },
  {
   "cell_type": "markdown",
   "id": "47bad72c",
   "metadata": {},
   "source": [
    "Mes deux variables sont qualitatives.  \n",
    "Je choisie de réaliser le test du Khi² pour vérifier si ces deux variables sont liées."
   ]
  },
  {
   "cell_type": "code",
   "execution_count": 5,
   "id": "8dab7b4f",
   "metadata": {},
   "outputs": [
    {
     "data": {
      "text/html": [
       "<div>\n",
       "<style scoped>\n",
       "    .dataframe tbody tr th:only-of-type {\n",
       "        vertical-align: middle;\n",
       "    }\n",
       "\n",
       "    .dataframe tbody tr th {\n",
       "        vertical-align: top;\n",
       "    }\n",
       "\n",
       "    .dataframe thead th {\n",
       "        text-align: right;\n",
       "    }\n",
       "</style>\n",
       "<table border=\"1\" class=\"dataframe\">\n",
       "  <thead>\n",
       "    <tr style=\"text-align: right;\">\n",
       "      <th>categ</th>\n",
       "      <th>0</th>\n",
       "      <th>1</th>\n",
       "      <th>2</th>\n",
       "      <th>Total</th>\n",
       "    </tr>\n",
       "    <tr>\n",
       "      <th>sex</th>\n",
       "      <th></th>\n",
       "      <th></th>\n",
       "      <th></th>\n",
       "      <th></th>\n",
       "    </tr>\n",
       "  </thead>\n",
       "  <tbody>\n",
       "    <tr>\n",
       "      <th>f</th>\n",
       "      <td>200904</td>\n",
       "      <td>111331</td>\n",
       "      <td>16980</td>\n",
       "      <td>329215</td>\n",
       "    </tr>\n",
       "    <tr>\n",
       "      <th>m</th>\n",
       "      <td>186589</td>\n",
       "      <td>101017</td>\n",
       "      <td>15868</td>\n",
       "      <td>303474</td>\n",
       "    </tr>\n",
       "    <tr>\n",
       "      <th>Total</th>\n",
       "      <td>387493</td>\n",
       "      <td>212348</td>\n",
       "      <td>32848</td>\n",
       "      <td>632689</td>\n",
       "    </tr>\n",
       "  </tbody>\n",
       "</table>\n",
       "</div>"
      ],
      "text/plain": [
       "categ       0       1      2   Total\n",
       "sex                                 \n",
       "f      200904  111331  16980  329215\n",
       "m      186589  101017  15868  303474\n",
       "Total  387493  212348  32848  632689"
      ]
     },
     "execution_count": 5,
     "metadata": {},
     "output_type": "execute_result"
    }
   ],
   "source": [
    "# Création de ma table de contingence\n",
    "X = \"sex\"\n",
    "Y = \"categ\"\n",
    "\n",
    "cont_1 = df[[X,Y]].pivot_table(index=X,columns=Y,aggfunc=len,margins=True,margins_name=\"Total\")\n",
    "cont_1\n"
   ]
  },
  {
   "cell_type": "code",
   "execution_count": 6,
   "id": "ae7a53a5",
   "metadata": {},
   "outputs": [],
   "source": [
    "# J'ouvre le module chi2_contingency de la librairie scipy\n",
    "from scipy.stats import chi2_contingency as chi2_contingency"
   ]
  },
  {
   "cell_type": "code",
   "execution_count": 7,
   "id": "d32a0671",
   "metadata": {},
   "outputs": [],
   "source": [
    "chi2, p, dof, exp = chi2_contingency(cont_1)"
   ]
  },
  {
   "cell_type": "code",
   "execution_count": 8,
   "id": "aa115aa0",
   "metadata": {
    "scrolled": true
   },
   "outputs": [
    {
     "data": {
      "text/plain": [
       "20.200173796862927"
      ]
     },
     "execution_count": 8,
     "metadata": {},
     "output_type": "execute_result"
    }
   ],
   "source": [
    "chi2"
   ]
  },
  {
   "cell_type": "code",
   "execution_count": 9,
   "id": "0358a1da",
   "metadata": {},
   "outputs": [
    {
     "data": {
      "text/plain": [
       "0.002551063708568263"
      ]
     },
     "execution_count": 9,
     "metadata": {},
     "output_type": "execute_result"
    }
   ],
   "source": [
    "p"
   ]
  },
  {
   "cell_type": "markdown",
   "id": "c98941ac",
   "metadata": {},
   "source": [
    "Avec un p-value inférieure à 0.05% on peut rejeter l'hypothèse 0.  \n",
    "\n",
    "**Attention, cette corrélation ne s'applique que si les 4 gros clients ont été retirés de la dataframe. Cas échéant, l'hypothèse H0 ne sera pas rejetée.**  "
   ]
  },
  {
   "cell_type": "code",
   "execution_count": 10,
   "id": "070de62b",
   "metadata": {},
   "outputs": [
    {
     "data": {
      "image/png": "[encoded data removed]",
      "text/plain": [
       "<Figure size 432x288 with 2 Axes>"
      ]
     },
     "metadata": {
      "needs_background": "light"
     },
     "output_type": "display_data"
    }
   ],
   "source": [
    "import seaborn as sns\n",
    "\n",
    "tx = cont_1.loc[:,[\"Total\"]]\n",
    "ty = cont_1.loc[[\"Total\"],:]\n",
    "n = len(df)\n",
    "indep = tx.dot(ty) / n\n",
    "\n",
    "c = cont_1.fillna(0) # On remplace les valeurs nulles par 0\n",
    "measure = (c-indep)**2/indep\n",
    "xi_n = measure.sum().sum()\n",
    "table = measure/xi_n\n",
    "sns.heatmap(table.iloc[:-1,:-1],annot=c.iloc[:-1,:-1])\n",
    "plt.title('Matrice de corrélation entre le sexe et la catégorie de produit')\n",
    "plt.show()"
   ]
  },
  {
   "cell_type": "markdown",
   "id": "24e00851",
   "metadata": {},
   "source": [
    "On remarque une forte corrélation entre les hommes et la catégorie 1."
   ]
  },
  {
   "cell_type": "markdown",
   "id": "4e065b53",
   "metadata": {},
   "source": [
    "# Test de corrélation : Age et Chiffre d'affaires\n"
   ]
  },
  {
   "cell_type": "markdown",
   "id": "9ca55a55",
   "metadata": {},
   "source": [
    "Il s'agit de deux variables quantitatives mais non linéaires. J'utilise le test de Spearman."
   ]
  },
  {
   "cell_type": "code",
   "execution_count": 11,
   "id": "83b3958e",
   "metadata": {},
   "outputs": [],
   "source": [
    "df_age_ca = df[['âge','price']]"
   ]
  },
  {
   "cell_type": "code",
   "execution_count": 12,
   "id": "47660b7c",
   "metadata": {},
   "outputs": [],
   "source": [
    "df_age_ca = df_age_ca.groupby('âge').agg({'price':'sum'}).reset_index()"
   ]
  },
  {
   "cell_type": "code",
   "execution_count": 13,
   "id": "6767133a",
   "metadata": {},
   "outputs": [
    {
     "data": {
      "text/html": [
       "<div>\n",
       "<style scoped>\n",
       "    .dataframe tbody tr th:only-of-type {\n",
       "        vertical-align: middle;\n",
       "    }\n",
       "\n",
       "    .dataframe tbody tr th {\n",
       "        vertical-align: top;\n",
       "    }\n",
       "\n",
       "    .dataframe thead th {\n",
       "        text-align: right;\n",
       "    }\n",
       "</style>\n",
       "<table border=\"1\" class=\"dataframe\">\n",
       "  <thead>\n",
       "    <tr style=\"text-align: right;\">\n",
       "      <th></th>\n",
       "      <th>âge</th>\n",
       "      <th>price</th>\n",
       "    </tr>\n",
       "  </thead>\n",
       "  <tbody>\n",
       "    <tr>\n",
       "      <th>0</th>\n",
       "      <td>19</td>\n",
       "      <td>609013.69</td>\n",
       "    </tr>\n",
       "    <tr>\n",
       "      <th>1</th>\n",
       "      <td>20</td>\n",
       "      <td>178195.78</td>\n",
       "    </tr>\n",
       "    <tr>\n",
       "      <th>2</th>\n",
       "      <td>21</td>\n",
       "      <td>184209.24</td>\n",
       "    </tr>\n",
       "    <tr>\n",
       "      <th>3</th>\n",
       "      <td>22</td>\n",
       "      <td>178497.70</td>\n",
       "    </tr>\n",
       "    <tr>\n",
       "      <th>4</th>\n",
       "      <td>23</td>\n",
       "      <td>165029.24</td>\n",
       "    </tr>\n",
       "    <tr>\n",
       "      <th>...</th>\n",
       "      <td>...</td>\n",
       "      <td>...</td>\n",
       "    </tr>\n",
       "    <tr>\n",
       "      <th>71</th>\n",
       "      <td>90</td>\n",
       "      <td>5264.98</td>\n",
       "    </tr>\n",
       "    <tr>\n",
       "      <th>72</th>\n",
       "      <td>91</td>\n",
       "      <td>5043.19</td>\n",
       "    </tr>\n",
       "    <tr>\n",
       "      <th>73</th>\n",
       "      <td>92</td>\n",
       "      <td>2815.45</td>\n",
       "    </tr>\n",
       "    <tr>\n",
       "      <th>74</th>\n",
       "      <td>93</td>\n",
       "      <td>4013.87</td>\n",
       "    </tr>\n",
       "    <tr>\n",
       "      <th>75</th>\n",
       "      <td>94</td>\n",
       "      <td>3221.85</td>\n",
       "    </tr>\n",
       "  </tbody>\n",
       "</table>\n",
       "<p>76 rows × 2 columns</p>\n",
       "</div>"
      ],
      "text/plain": [
       "    âge      price\n",
       "0    19  609013.69\n",
       "1    20  178195.78\n",
       "2    21  184209.24\n",
       "3    22  178497.70\n",
       "4    23  165029.24\n",
       "..  ...        ...\n",
       "71   90    5264.98\n",
       "72   91    5043.19\n",
       "73   92    2815.45\n",
       "74   93    4013.87\n",
       "75   94    3221.85\n",
       "\n",
       "[76 rows x 2 columns]"
      ]
     },
     "execution_count": 13,
     "metadata": {},
     "output_type": "execute_result"
    }
   ],
   "source": [
    "df_age_ca"
   ]
  },
  {
   "cell_type": "code",
   "execution_count": 14,
   "id": "3cf482a9",
   "metadata": {},
   "outputs": [
    {
     "data": {
      "image/png": "[encoded data removed]",
      "text/plain": [
       "<Figure size 432x288 with 1 Axes>"
      ]
     },
     "metadata": {
      "needs_background": "light"
     },
     "output_type": "display_data"
    }
   ],
   "source": [
    "import matplotlib.pyplot as plt\n",
    "\n",
    "plt.plot(df_age_ca[\"âge\"],df_age_ca[\"price\"],'o')\n",
    "plt.xlabel(\"âge\")\n",
    "plt.ylabel(\"ca\")\n",
    "plt.grid()\n",
    "plt.title('Répartition du CA par âge')\n",
    "plt.show()"
   ]
  },
  {
   "cell_type": "markdown",
   "id": "73441167",
   "metadata": {},
   "source": [
    "Ce graphique nous montre que nos variables ne sont pas linéaires.  "
   ]
  },
  {
   "cell_type": "code",
   "execution_count": 15,
   "id": "93d4fd8c",
   "metadata": {},
   "outputs": [],
   "source": [
    "from scipy import stats\n",
    "from scipy.stats import spearmanr"
   ]
  },
  {
   "cell_type": "code",
   "execution_count": 16,
   "id": "0a501d1a",
   "metadata": {},
   "outputs": [
    {
     "data": {
      "text/plain": [
       "SpearmanrResult(correlation=-0.8736842105263158, pvalue=7.352708223159905e-25)"
      ]
     },
     "execution_count": 16,
     "metadata": {},
     "output_type": "execute_result"
    }
   ],
   "source": [
    "stats.spearmanr(df_age_ca['âge'],df_age_ca['price'])"
   ]
  },
  {
   "cell_type": "markdown",
   "id": "b7287297",
   "metadata": {},
   "source": [
    "Avec une p-value de 7.352708223159905e-25, on peut rejeter l'hypothèse 0 et dire que les variables sont anti-corrélées (-0.8736842105263158). "
   ]
  },
  {
   "cell_type": "markdown",
   "id": "6f47a485",
   "metadata": {},
   "source": [
    "# Test de corrélation : Age et fréquence d'achat"
   ]
  },
  {
   "cell_type": "markdown",
   "id": "436e6c97",
   "metadata": {},
   "source": [
    "Mes variables sont qualitatives et quantitatives. Je réalise une analyse de la variance (ANOVA) comme test de corrélation."
   ]
  },
  {
   "cell_type": "code",
   "execution_count": 17,
   "id": "fc4bf974",
   "metadata": {},
   "outputs": [],
   "source": [
    "# Je crée une colonne année_mois afin de calculer la fréquence d'achat mensuelle des clients par tranche d'âge \n",
    "df['mois'] = df[\"mois\"].astype(str)"
   ]
  },
  {
   "cell_type": "code",
   "execution_count": 18,
   "id": "de25c304",
   "metadata": {},
   "outputs": [],
   "source": [
    "df['mois'] = df['mois'].str.rjust(2, '0')"
   ]
  },
  {
   "cell_type": "code",
   "execution_count": 19,
   "id": "cf7d5f42",
   "metadata": {},
   "outputs": [],
   "source": [
    "df[\"année_mois\"] = df[\"année\"].astype(str)+ df[\"mois\"].astype(str)"
   ]
  },
  {
   "cell_type": "code",
   "execution_count": 20,
   "id": "f8d10c98",
   "metadata": {
    "scrolled": false
   },
   "outputs": [
    {
     "data": {
      "text/html": [
       "<div>\n",
       "<style scoped>\n",
       "    .dataframe tbody tr th:only-of-type {\n",
       "        vertical-align: middle;\n",
       "    }\n",
       "\n",
       "    .dataframe tbody tr th {\n",
       "        vertical-align: top;\n",
       "    }\n",
       "\n",
       "    .dataframe thead th {\n",
       "        text-align: right;\n",
       "    }\n",
       "</style>\n",
       "<table border=\"1\" class=\"dataframe\">\n",
       "  <thead>\n",
       "    <tr style=\"text-align: right;\">\n",
       "      <th></th>\n",
       "      <th>id_prod</th>\n",
       "      <th>date</th>\n",
       "      <th>session_id</th>\n",
       "      <th>client_id</th>\n",
       "      <th>price</th>\n",
       "      <th>categ</th>\n",
       "      <th>sex</th>\n",
       "      <th>birth</th>\n",
       "      <th>année</th>\n",
       "      <th>mois</th>\n",
       "      <th>jour</th>\n",
       "      <th>âge</th>\n",
       "      <th>âge_tranche</th>\n",
       "      <th>année_mois</th>\n",
       "    </tr>\n",
       "  </thead>\n",
       "  <tbody>\n",
       "    <tr>\n",
       "      <th>467519</th>\n",
       "      <td>0_1259</td>\n",
       "      <td>2021-03-01 00:01:07.843138</td>\n",
       "      <td>s_1</td>\n",
       "      <td>c_329</td>\n",
       "      <td>11.99</td>\n",
       "      <td>0</td>\n",
       "      <td>f</td>\n",
       "      <td>1967</td>\n",
       "      <td>2021</td>\n",
       "      <td>03</td>\n",
       "      <td>1</td>\n",
       "      <td>56</td>\n",
       "      <td>52-56</td>\n",
       "      <td>202103</td>\n",
       "    </tr>\n",
       "    <tr>\n",
       "      <th>244742</th>\n",
       "      <td>0_1390</td>\n",
       "      <td>2021-03-01 00:02:26.047414</td>\n",
       "      <td>s_2</td>\n",
       "      <td>c_664</td>\n",
       "      <td>19.37</td>\n",
       "      <td>0</td>\n",
       "      <td>m</td>\n",
       "      <td>1960</td>\n",
       "      <td>2021</td>\n",
       "      <td>03</td>\n",
       "      <td>1</td>\n",
       "      <td>63</td>\n",
       "      <td>62-67</td>\n",
       "      <td>202103</td>\n",
       "    </tr>\n",
       "    <tr>\n",
       "      <th>124034</th>\n",
       "      <td>0_1352</td>\n",
       "      <td>2021-03-01 00:02:38.311413</td>\n",
       "      <td>s_3</td>\n",
       "      <td>c_580</td>\n",
       "      <td>4.50</td>\n",
       "      <td>0</td>\n",
       "      <td>m</td>\n",
       "      <td>1988</td>\n",
       "      <td>2021</td>\n",
       "      <td>03</td>\n",
       "      <td>1</td>\n",
       "      <td>35</td>\n",
       "      <td>30-35</td>\n",
       "      <td>202103</td>\n",
       "    </tr>\n",
       "    <tr>\n",
       "      <th>110676</th>\n",
       "      <td>0_1458</td>\n",
       "      <td>2021-03-01 00:04:54.559692</td>\n",
       "      <td>s_4</td>\n",
       "      <td>c_7912</td>\n",
       "      <td>6.55</td>\n",
       "      <td>0</td>\n",
       "      <td>f</td>\n",
       "      <td>1989</td>\n",
       "      <td>2021</td>\n",
       "      <td>03</td>\n",
       "      <td>1</td>\n",
       "      <td>34</td>\n",
       "      <td>30-35</td>\n",
       "      <td>202103</td>\n",
       "    </tr>\n",
       "    <tr>\n",
       "      <th>147366</th>\n",
       "      <td>0_1358</td>\n",
       "      <td>2021-03-01 00:05:18.801198</td>\n",
       "      <td>s_5</td>\n",
       "      <td>c_2033</td>\n",
       "      <td>16.49</td>\n",
       "      <td>0</td>\n",
       "      <td>f</td>\n",
       "      <td>1956</td>\n",
       "      <td>2021</td>\n",
       "      <td>03</td>\n",
       "      <td>1</td>\n",
       "      <td>67</td>\n",
       "      <td>62-67</td>\n",
       "      <td>202103</td>\n",
       "    </tr>\n",
       "    <tr>\n",
       "      <th>...</th>\n",
       "      <td>...</td>\n",
       "      <td>...</td>\n",
       "      <td>...</td>\n",
       "      <td>...</td>\n",
       "      <td>...</td>\n",
       "      <td>...</td>\n",
       "      <td>...</td>\n",
       "      <td>...</td>\n",
       "      <td>...</td>\n",
       "      <td>...</td>\n",
       "      <td>...</td>\n",
       "      <td>...</td>\n",
       "      <td>...</td>\n",
       "      <td>...</td>\n",
       "    </tr>\n",
       "    <tr>\n",
       "      <th>450510</th>\n",
       "      <td>1_508</td>\n",
       "      <td>2023-02-28 23:49:03.148402</td>\n",
       "      <td>s_348444</td>\n",
       "      <td>c_3573</td>\n",
       "      <td>21.92</td>\n",
       "      <td>1</td>\n",
       "      <td>f</td>\n",
       "      <td>1996</td>\n",
       "      <td>2023</td>\n",
       "      <td>02</td>\n",
       "      <td>28</td>\n",
       "      <td>27</td>\n",
       "      <td>25-29</td>\n",
       "      <td>202302</td>\n",
       "    </tr>\n",
       "    <tr>\n",
       "      <th>453337</th>\n",
       "      <td>2_37</td>\n",
       "      <td>2023-02-28 23:51:29.318531</td>\n",
       "      <td>s_348445</td>\n",
       "      <td>c_50</td>\n",
       "      <td>48.99</td>\n",
       "      <td>2</td>\n",
       "      <td>f</td>\n",
       "      <td>1994</td>\n",
       "      <td>2023</td>\n",
       "      <td>02</td>\n",
       "      <td>28</td>\n",
       "      <td>29</td>\n",
       "      <td>25-29</td>\n",
       "      <td>202302</td>\n",
       "    </tr>\n",
       "    <tr>\n",
       "      <th>196232</th>\n",
       "      <td>1_695</td>\n",
       "      <td>2023-02-28 23:53:18.929676</td>\n",
       "      <td>s_348446</td>\n",
       "      <td>c_488</td>\n",
       "      <td>26.99</td>\n",
       "      <td>1</td>\n",
       "      <td>f</td>\n",
       "      <td>1985</td>\n",
       "      <td>2023</td>\n",
       "      <td>02</td>\n",
       "      <td>28</td>\n",
       "      <td>38</td>\n",
       "      <td>36-40</td>\n",
       "      <td>202302</td>\n",
       "    </tr>\n",
       "    <tr>\n",
       "      <th>470492</th>\n",
       "      <td>0_1547</td>\n",
       "      <td>2023-02-28 23:58:00.107815</td>\n",
       "      <td>s_348447</td>\n",
       "      <td>c_4848</td>\n",
       "      <td>8.99</td>\n",
       "      <td>0</td>\n",
       "      <td>m</td>\n",
       "      <td>1953</td>\n",
       "      <td>2023</td>\n",
       "      <td>02</td>\n",
       "      <td>28</td>\n",
       "      <td>70</td>\n",
       "      <td>68-72</td>\n",
       "      <td>202302</td>\n",
       "    </tr>\n",
       "    <tr>\n",
       "      <th>89425</th>\n",
       "      <td>0_1398</td>\n",
       "      <td>2023-02-28 23:58:30.792755</td>\n",
       "      <td>s_348435</td>\n",
       "      <td>c_3575</td>\n",
       "      <td>4.52</td>\n",
       "      <td>0</td>\n",
       "      <td>f</td>\n",
       "      <td>1981</td>\n",
       "      <td>2023</td>\n",
       "      <td>02</td>\n",
       "      <td>28</td>\n",
       "      <td>42</td>\n",
       "      <td>41-45</td>\n",
       "      <td>202302</td>\n",
       "    </tr>\n",
       "  </tbody>\n",
       "</table>\n",
       "<p>632689 rows × 14 columns</p>\n",
       "</div>"
      ],
      "text/plain": [
       "       id_prod                        date session_id client_id  price  categ  \\\n",
       "467519  0_1259  2021-03-01 00:01:07.843138        s_1     c_329  11.99      0   \n",
       "244742  0_1390  2021-03-01 00:02:26.047414        s_2     c_664  19.37      0   \n",
       "124034  0_1352  2021-03-01 00:02:38.311413        s_3     c_580   4.50      0   \n",
       "110676  0_1458  2021-03-01 00:04:54.559692        s_4    c_7912   6.55      0   \n",
       "147366  0_1358  2021-03-01 00:05:18.801198        s_5    c_2033  16.49      0   \n",
       "...        ...                         ...        ...       ...    ...    ...   \n",
       "450510   1_508  2023-02-28 23:49:03.148402   s_348444    c_3573  21.92      1   \n",
       "453337    2_37  2023-02-28 23:51:29.318531   s_348445      c_50  48.99      2   \n",
       "196232   1_695  2023-02-28 23:53:18.929676   s_348446     c_488  26.99      1   \n",
       "470492  0_1547  2023-02-28 23:58:00.107815   s_348447    c_4848   8.99      0   \n",
       "89425   0_1398  2023-02-28 23:58:30.792755   s_348435    c_3575   4.52      0   \n",
       "\n",
       "       sex  birth  année mois  jour  âge âge_tranche année_mois  \n",
       "467519   f   1967   2021   03     1   56       52-56     202103  \n",
       "244742   m   1960   2021   03     1   63       62-67     202103  \n",
       "124034   m   1988   2021   03     1   35       30-35     202103  \n",
       "110676   f   1989   2021   03     1   34       30-35     202103  \n",
       "147366   f   1956   2021   03     1   67       62-67     202103  \n",
       "...     ..    ...    ...  ...   ...  ...         ...        ...  \n",
       "450510   f   1996   2023   02    28   27       25-29     202302  \n",
       "453337   f   1994   2023   02    28   29       25-29     202302  \n",
       "196232   f   1985   2023   02    28   38       36-40     202302  \n",
       "470492   m   1953   2023   02    28   70       68-72     202302  \n",
       "89425    f   1981   2023   02    28   42       41-45     202302  \n",
       "\n",
       "[632689 rows x 14 columns]"
      ]
     },
     "execution_count": 20,
     "metadata": {},
     "output_type": "execute_result"
    }
   ],
   "source": [
    "df.sort_values('date', ascending = True)"
   ]
  },
  {
   "cell_type": "code",
   "execution_count": 21,
   "id": "0f5593af",
   "metadata": {},
   "outputs": [],
   "source": [
    "# Je calcul la fréquence d'achat mensuelle par client\n",
    "def frequence(x):\n",
    "    d = {}\n",
    "    d[\"frequence\"] = (x['session_id'].count()/ x['client_id'].value_counts().count())\n",
    "    return pd.Series(d, index=[\"frequence\"])        "
   ]
  },
  {
   "cell_type": "code",
   "execution_count": 22,
   "id": "3c9d4b21",
   "metadata": {},
   "outputs": [],
   "source": [
    "# Je les regroupe par période et par tranche d'âge\n",
    "df_age_frequence = df.groupby(['année_mois','âge_tranche']).apply(frequence)"
   ]
  },
  {
   "cell_type": "code",
   "execution_count": 23,
   "id": "0610c576",
   "metadata": {},
   "outputs": [
    {
     "data": {
      "text/html": [
       "<div>\n",
       "<style scoped>\n",
       "    .dataframe tbody tr th:only-of-type {\n",
       "        vertical-align: middle;\n",
       "    }\n",
       "\n",
       "    .dataframe tbody tr th {\n",
       "        vertical-align: top;\n",
       "    }\n",
       "\n",
       "    .dataframe thead th {\n",
       "        text-align: right;\n",
       "    }\n",
       "</style>\n",
       "<table border=\"1\" class=\"dataframe\">\n",
       "  <thead>\n",
       "    <tr style=\"text-align: right;\">\n",
       "      <th></th>\n",
       "      <th></th>\n",
       "      <th>frequence</th>\n",
       "    </tr>\n",
       "    <tr>\n",
       "      <th>année_mois</th>\n",
       "      <th>âge_tranche</th>\n",
       "      <th></th>\n",
       "    </tr>\n",
       "  </thead>\n",
       "  <tbody>\n",
       "    <tr>\n",
       "      <th rowspan=\"5\" valign=\"top\">202103</th>\n",
       "      <th>19-24</th>\n",
       "      <td>2.657194</td>\n",
       "    </tr>\n",
       "    <tr>\n",
       "      <th>25-29</th>\n",
       "      <td>2.573684</td>\n",
       "    </tr>\n",
       "    <tr>\n",
       "      <th>30-35</th>\n",
       "      <td>5.907716</td>\n",
       "    </tr>\n",
       "    <tr>\n",
       "      <th>36-40</th>\n",
       "      <td>6.866029</td>\n",
       "    </tr>\n",
       "    <tr>\n",
       "      <th>41-45</th>\n",
       "      <td>6.384831</td>\n",
       "    </tr>\n",
       "    <tr>\n",
       "      <th>...</th>\n",
       "      <th>...</th>\n",
       "      <td>...</td>\n",
       "    </tr>\n",
       "    <tr>\n",
       "      <th rowspan=\"5\" valign=\"top\">202302</th>\n",
       "      <th>68-72</th>\n",
       "      <td>2.937255</td>\n",
       "    </tr>\n",
       "    <tr>\n",
       "      <th>73-77</th>\n",
       "      <td>3.124183</td>\n",
       "    </tr>\n",
       "    <tr>\n",
       "      <th>78-83</th>\n",
       "      <td>3.092308</td>\n",
       "    </tr>\n",
       "    <tr>\n",
       "      <th>84-88</th>\n",
       "      <td>2.629630</td>\n",
       "    </tr>\n",
       "    <tr>\n",
       "      <th>89-94</th>\n",
       "      <td>3.125000</td>\n",
       "    </tr>\n",
       "  </tbody>\n",
       "</table>\n",
       "<p>336 rows × 1 columns</p>\n",
       "</div>"
      ],
      "text/plain": [
       "                        frequence\n",
       "année_mois âge_tranche           \n",
       "202103     19-24         2.657194\n",
       "           25-29         2.573684\n",
       "           30-35         5.907716\n",
       "           36-40         6.866029\n",
       "           41-45         6.384831\n",
       "...                           ...\n",
       "202302     68-72         2.937255\n",
       "           73-77         3.124183\n",
       "           78-83         3.092308\n",
       "           84-88         2.629630\n",
       "           89-94         3.125000\n",
       "\n",
       "[336 rows x 1 columns]"
      ]
     },
     "execution_count": 23,
     "metadata": {},
     "output_type": "execute_result"
    }
   ],
   "source": [
    "df_age_frequence"
   ]
  },
  {
   "cell_type": "code",
   "execution_count": 24,
   "id": "7ba29d8a",
   "metadata": {},
   "outputs": [],
   "source": [
    "df_age_frequence = df_age_frequence.reset_index()"
   ]
  },
  {
   "cell_type": "code",
   "execution_count": 25,
   "id": "c237349a",
   "metadata": {},
   "outputs": [
    {
     "data": {
      "image/png": "[encoded data removed]",
      "text/plain": [
       "<Figure size 648x432 with 1 Axes>"
      ]
     },
     "metadata": {
      "needs_background": "light"
     },
     "output_type": "display_data"
    }
   ],
   "source": [
    "fig = plt.figure(1, figsize=(9,6))\n",
    "sns.boxplot(x='âge_tranche',y='frequence',data=df_age_frequence, showfliers=True)\n",
    "plt.title('Fréquence d\\'achat par tranche d\\'âge')\n",
    "plt.grid()\n",
    "plt.show()"
   ]
  },
  {
   "cell_type": "code",
   "execution_count": 26,
   "id": "5c044d1e",
   "metadata": {},
   "outputs": [
    {
     "data": {
      "image/png": "[encoded data removed]",
      "text/plain": [
       "<Figure size 432x288 with 1 Axes>"
      ]
     },
     "metadata": {
      "needs_background": "light"
     },
     "output_type": "display_data"
    }
   ],
   "source": [
    "import matplotlib.pyplot as plt\n",
    "\n",
    "plt.plot(df_age_frequence[\"âge_tranche\"],df_age_frequence[\"frequence\"],'o')\n",
    "plt.xlabel(\"âge\")\n",
    "plt.ylabel(\"fréquence\")\n",
    "plt.xticks(rotation = 45,ha='right')\n",
    "plt.title(\"Fréquence d'achat par tranche d'âge\")\n",
    "plt.grid()\n",
    "plt.show()"
   ]
  },
  {
   "cell_type": "code",
   "execution_count": 27,
   "id": "e0436f67",
   "metadata": {},
   "outputs": [],
   "source": [
    "import statsmodels.api as sm\n",
    "from statsmodels.formula.api import ols"
   ]
  },
  {
   "cell_type": "code",
   "execution_count": 28,
   "id": "12adeeb8",
   "metadata": {},
   "outputs": [],
   "source": [
    "lm = ols('frequence ~ âge_tranche', data = df_age_frequence).fit()\n",
    "import statsmodels.api; \n",
    "table = sm.stats.anova_lm(lm)"
   ]
  },
  {
   "cell_type": "code",
   "execution_count": 29,
   "id": "768b1461",
   "metadata": {},
   "outputs": [
    {
     "data": {
      "text/html": [
       "<div>\n",
       "<style scoped>\n",
       "    .dataframe tbody tr th:only-of-type {\n",
       "        vertical-align: middle;\n",
       "    }\n",
       "\n",
       "    .dataframe tbody tr th {\n",
       "        vertical-align: top;\n",
       "    }\n",
       "\n",
       "    .dataframe thead th {\n",
       "        text-align: right;\n",
       "    }\n",
       "</style>\n",
       "<table border=\"1\" class=\"dataframe\">\n",
       "  <thead>\n",
       "    <tr style=\"text-align: right;\">\n",
       "      <th></th>\n",
       "      <th>df</th>\n",
       "      <th>sum_sq</th>\n",
       "      <th>mean_sq</th>\n",
       "      <th>F</th>\n",
       "      <th>PR(&gt;F)</th>\n",
       "    </tr>\n",
       "  </thead>\n",
       "  <tbody>\n",
       "    <tr>\n",
       "      <th>âge_tranche</th>\n",
       "      <td>13.0</td>\n",
       "      <td>648.147853</td>\n",
       "      <td>49.857527</td>\n",
       "      <td>326.958346</td>\n",
       "      <td>1.079755e-176</td>\n",
       "    </tr>\n",
       "    <tr>\n",
       "      <th>Residual</th>\n",
       "      <td>322.0</td>\n",
       "      <td>49.101434</td>\n",
       "      <td>0.152489</td>\n",
       "      <td>NaN</td>\n",
       "      <td>NaN</td>\n",
       "    </tr>\n",
       "  </tbody>\n",
       "</table>\n",
       "</div>"
      ],
      "text/plain": [
       "                df      sum_sq    mean_sq           F         PR(>F)\n",
       "âge_tranche   13.0  648.147853  49.857527  326.958346  1.079755e-176\n",
       "Residual     322.0   49.101434   0.152489         NaN            NaN"
      ]
     },
     "execution_count": 29,
     "metadata": {},
     "output_type": "execute_result"
    }
   ],
   "source": [
    "table"
   ]
  },
  {
   "cell_type": "code",
   "execution_count": 30,
   "id": "745d59bd",
   "metadata": {
    "scrolled": true
   },
   "outputs": [
    {
     "data": {
      "text/html": [
       "<table class=\"simpletable\">\n",
       "<caption>OLS Regression Results</caption>\n",
       "<tr>\n",
       "  <th>Dep. Variable:</th>        <td>frequence</td>    <th>  R-squared:         </th> <td>   0.930</td> \n",
       "</tr>\n",
       "<tr>\n",
       "  <th>Model:</th>                   <td>OLS</td>       <th>  Adj. R-squared:    </th> <td>   0.927</td> \n",
       "</tr>\n",
       "<tr>\n",
       "  <th>Method:</th>             <td>Least Squares</td>  <th>  F-statistic:       </th> <td>   327.0</td> \n",
       "</tr>\n",
       "<tr>\n",
       "  <th>Date:</th>             <td>Mon, 27 Sep 2021</td> <th>  Prob (F-statistic):</th> <td>1.08e-176</td>\n",
       "</tr>\n",
       "<tr>\n",
       "  <th>Time:</th>                 <td>10:20:05</td>     <th>  Log-Likelihood:    </th> <td> -153.66</td> \n",
       "</tr>\n",
       "<tr>\n",
       "  <th>No. Observations:</th>      <td>   336</td>      <th>  AIC:               </th> <td>   335.3</td> \n",
       "</tr>\n",
       "<tr>\n",
       "  <th>Df Residuals:</th>          <td>   322</td>      <th>  BIC:               </th> <td>   388.8</td> \n",
       "</tr>\n",
       "<tr>\n",
       "  <th>Df Model:</th>              <td>    13</td>      <th>                     </th>     <td> </td>    \n",
       "</tr>\n",
       "<tr>\n",
       "  <th>Covariance Type:</th>      <td>nonrobust</td>    <th>                     </th>     <td> </td>    \n",
       "</tr>\n",
       "</table>\n",
       "<table class=\"simpletable\">\n",
       "<tr>\n",
       "            <td></td>              <th>coef</th>     <th>std err</th>      <th>t</th>      <th>P>|t|</th>  <th>[0.025</th>    <th>0.975]</th>  \n",
       "</tr>\n",
       "<tr>\n",
       "  <th>Intercept</th>            <td>    2.6982</td> <td>    0.080</td> <td>   33.850</td> <td> 0.000</td> <td>    2.541</td> <td>    2.855</td>\n",
       "</tr>\n",
       "<tr>\n",
       "  <th>âge_tranche[T.25-29]</th> <td>    0.0340</td> <td>    0.113</td> <td>    0.302</td> <td> 0.763</td> <td>   -0.188</td> <td>    0.256</td>\n",
       "</tr>\n",
       "<tr>\n",
       "  <th>âge_tranche[T.30-35]</th> <td>    2.8213</td> <td>    0.113</td> <td>   25.028</td> <td> 0.000</td> <td>    2.600</td> <td>    3.043</td>\n",
       "</tr>\n",
       "<tr>\n",
       "  <th>âge_tranche[T.36-40]</th> <td>    3.9754</td> <td>    0.113</td> <td>   35.266</td> <td> 0.000</td> <td>    3.754</td> <td>    4.197</td>\n",
       "</tr>\n",
       "<tr>\n",
       "  <th>âge_tranche[T.41-45]</th> <td>    3.6594</td> <td>    0.113</td> <td>   32.463</td> <td> 0.000</td> <td>    3.438</td> <td>    3.881</td>\n",
       "</tr>\n",
       "<tr>\n",
       "  <th>âge_tranche[T.46-51]</th> <td>    3.6038</td> <td>    0.113</td> <td>   31.969</td> <td> 0.000</td> <td>    3.382</td> <td>    3.826</td>\n",
       "</tr>\n",
       "<tr>\n",
       "  <th>âge_tranche[T.52-56]</th> <td>    0.6938</td> <td>    0.113</td> <td>    6.154</td> <td> 0.000</td> <td>    0.472</td> <td>    0.916</td>\n",
       "</tr>\n",
       "<tr>\n",
       "  <th>âge_tranche[T.57-61]</th> <td>    0.7887</td> <td>    0.113</td> <td>    6.997</td> <td> 0.000</td> <td>    0.567</td> <td>    1.010</td>\n",
       "</tr>\n",
       "<tr>\n",
       "  <th>âge_tranche[T.62-67]</th> <td>    0.6700</td> <td>    0.113</td> <td>    5.943</td> <td> 0.000</td> <td>    0.448</td> <td>    0.892</td>\n",
       "</tr>\n",
       "<tr>\n",
       "  <th>âge_tranche[T.68-72]</th> <td>    0.6113</td> <td>    0.113</td> <td>    5.422</td> <td> 0.000</td> <td>    0.389</td> <td>    0.833</td>\n",
       "</tr>\n",
       "<tr>\n",
       "  <th>âge_tranche[T.73-77]</th> <td>    0.6661</td> <td>    0.113</td> <td>    5.909</td> <td> 0.000</td> <td>    0.444</td> <td>    0.888</td>\n",
       "</tr>\n",
       "<tr>\n",
       "  <th>âge_tranche[T.78-83]</th> <td>    0.5876</td> <td>    0.113</td> <td>    5.213</td> <td> 0.000</td> <td>    0.366</td> <td>    0.809</td>\n",
       "</tr>\n",
       "<tr>\n",
       "  <th>âge_tranche[T.84-88]</th> <td>    0.6310</td> <td>    0.113</td> <td>    5.598</td> <td> 0.000</td> <td>    0.409</td> <td>    0.853</td>\n",
       "</tr>\n",
       "<tr>\n",
       "  <th>âge_tranche[T.89-94]</th> <td>    0.5305</td> <td>    0.113</td> <td>    4.706</td> <td> 0.000</td> <td>    0.309</td> <td>    0.752</td>\n",
       "</tr>\n",
       "</table>\n",
       "<table class=\"simpletable\">\n",
       "<tr>\n",
       "  <th>Omnibus:</th>       <td>29.384</td> <th>  Durbin-Watson:     </th> <td>   0.665</td>\n",
       "</tr>\n",
       "<tr>\n",
       "  <th>Prob(Omnibus):</th> <td> 0.000</td> <th>  Jarque-Bera (JB):  </th> <td> 131.192</td>\n",
       "</tr>\n",
       "<tr>\n",
       "  <th>Skew:</th>          <td>-0.011</td> <th>  Prob(JB):          </th> <td>3.25e-29</td>\n",
       "</tr>\n",
       "<tr>\n",
       "  <th>Kurtosis:</th>      <td> 6.061</td> <th>  Cond. No.          </th> <td>    14.9</td>\n",
       "</tr>\n",
       "</table><br/><br/>Notes:<br/>[1] Standard Errors assume that the covariance matrix of the errors is correctly specified."
      ],
      "text/plain": [
       "<class 'statsmodels.iolib.summary.Summary'>\n",
       "\"\"\"\n",
       "                            OLS Regression Results                            \n",
       "==============================================================================\n",
       "Dep. Variable:              frequence   R-squared:                       0.930\n",
       "Model:                            OLS   Adj. R-squared:                  0.927\n",
       "Method:                 Least Squares   F-statistic:                     327.0\n",
       "Date:                Mon, 27 Sep 2021   Prob (F-statistic):          1.08e-176\n",
       "Time:                        10:20:05   Log-Likelihood:                -153.66\n",
       "No. Observations:                 336   AIC:                             335.3\n",
       "Df Residuals:                     322   BIC:                             388.8\n",
       "Df Model:                          13                                         \n",
       "Covariance Type:            nonrobust                                         \n",
       "========================================================================================\n",
       "                           coef    std err          t      P>|t|      [0.025      0.975]\n",
       "----------------------------------------------------------------------------------------\n",
       "Intercept                2.6982      0.080     33.850      0.000       2.541       2.855\n",
       "âge_tranche[T.25-29]     0.0340      0.113      0.302      0.763      -0.188       0.256\n",
       "âge_tranche[T.30-35]     2.8213      0.113     25.028      0.000       2.600       3.043\n",
       "âge_tranche[T.36-40]     3.9754      0.113     35.266      0.000       3.754       4.197\n",
       "âge_tranche[T.41-45]     3.6594      0.113     32.463      0.000       3.438       3.881\n",
       "âge_tranche[T.46-51]     3.6038      0.113     31.969      0.000       3.382       3.826\n",
       "âge_tranche[T.52-56]     0.6938      0.113      6.154      0.000       0.472       0.916\n",
       "âge_tranche[T.57-61]     0.7887      0.113      6.997      0.000       0.567       1.010\n",
       "âge_tranche[T.62-67]     0.6700      0.113      5.943      0.000       0.448       0.892\n",
       "âge_tranche[T.68-72]     0.6113      0.113      5.422      0.000       0.389       0.833\n",
       "âge_tranche[T.73-77]     0.6661      0.113      5.909      0.000       0.444       0.888\n",
       "âge_tranche[T.78-83]     0.5876      0.113      5.213      0.000       0.366       0.809\n",
       "âge_tranche[T.84-88]     0.6310      0.113      5.598      0.000       0.409       0.853\n",
       "âge_tranche[T.89-94]     0.5305      0.113      4.706      0.000       0.309       0.752\n",
       "==============================================================================\n",
       "Omnibus:                       29.384   Durbin-Watson:                   0.665\n",
       "Prob(Omnibus):                  0.000   Jarque-Bera (JB):              131.192\n",
       "Skew:                          -0.011   Prob(JB):                     3.25e-29\n",
       "Kurtosis:                       6.061   Cond. No.                         14.9\n",
       "==============================================================================\n",
       "\n",
       "Notes:\n",
       "[1] Standard Errors assume that the covariance matrix of the errors is correctly specified.\n",
       "\"\"\""
      ]
     },
     "execution_count": 30,
     "metadata": {},
     "output_type": "execute_result"
    }
   ],
   "source": [
    "lm.summary()"
   ]
  },
  {
   "cell_type": "markdown",
   "id": "b26544cb",
   "metadata": {},
   "source": [
    "Avec un R_squared de 0.93, on peut dire qu'il existe à priori une relation entre l'âge et la fréquence d'achats.  \n",
    "\n",
    "Avec un p-value inférieure à 0.05%, on peut rejeter l'hypothèse H0."
   ]
  },
  {
   "cell_type": "markdown",
   "id": "2aca22ba",
   "metadata": {},
   "source": [
    "# Test de corrélation : Age et Panier moyen"
   ]
  },
  {
   "cell_type": "markdown",
   "id": "62bc73e8",
   "metadata": {},
   "source": [
    "R_squared : 0.93.  \n",
    "Il existe à priori une relation entre l'âge et la fréquence d'achats."
   ]
  },
  {
   "cell_type": "markdown",
   "id": "c0d42c14",
   "metadata": {},
   "source": [
    "Mes variables sont quantitatives et qualitatives.  \n",
    "Je réalise une analyse de la variance (ANOVA) pour faire mon test."
   ]
  },
  {
   "cell_type": "code",
   "execution_count": 31,
   "id": "5d5ccd91",
   "metadata": {},
   "outputs": [],
   "source": [
    "# Je calcule le panier moyen mensuel\n",
    "def panier_moyen(x):\n",
    "    d = {}\n",
    "    d[\"panier\"] = (x['price'].sum()/ x['session_id'].count())\n",
    "    return pd.Series(d, index=[\"panier\"])"
   ]
  },
  {
   "cell_type": "code",
   "execution_count": 32,
   "id": "e279d61e",
   "metadata": {},
   "outputs": [],
   "source": [
    "# Je les regroupe par période et par tranche d'âge\n",
    "df_age_panier = df.groupby(['année_mois','âge_tranche']).apply(panier_moyen)"
   ]
  },
  {
   "cell_type": "code",
   "execution_count": 33,
   "id": "927ba2a8",
   "metadata": {},
   "outputs": [],
   "source": [
    "df_age_panier =  df_age_panier.reset_index()"
   ]
  },
  {
   "cell_type": "code",
   "execution_count": 34,
   "id": "67d1ae01",
   "metadata": {},
   "outputs": [
    {
     "data": {
      "text/html": [
       "<div>\n",
       "<style scoped>\n",
       "    .dataframe tbody tr th:only-of-type {\n",
       "        vertical-align: middle;\n",
       "    }\n",
       "\n",
       "    .dataframe tbody tr th {\n",
       "        vertical-align: top;\n",
       "    }\n",
       "\n",
       "    .dataframe thead th {\n",
       "        text-align: right;\n",
       "    }\n",
       "</style>\n",
       "<table border=\"1\" class=\"dataframe\">\n",
       "  <thead>\n",
       "    <tr style=\"text-align: right;\">\n",
       "      <th></th>\n",
       "      <th>année_mois</th>\n",
       "      <th>âge_tranche</th>\n",
       "      <th>panier</th>\n",
       "    </tr>\n",
       "  </thead>\n",
       "  <tbody>\n",
       "    <tr>\n",
       "      <th>0</th>\n",
       "      <td>202103</td>\n",
       "      <td>19-24</td>\n",
       "      <td>38.636477</td>\n",
       "    </tr>\n",
       "    <tr>\n",
       "      <th>1</th>\n",
       "      <td>202103</td>\n",
       "      <td>25-29</td>\n",
       "      <td>36.713139</td>\n",
       "    </tr>\n",
       "    <tr>\n",
       "      <th>2</th>\n",
       "      <td>202103</td>\n",
       "      <td>30-35</td>\n",
       "      <td>15.751900</td>\n",
       "    </tr>\n",
       "    <tr>\n",
       "      <th>3</th>\n",
       "      <td>202103</td>\n",
       "      <td>36-40</td>\n",
       "      <td>13.242067</td>\n",
       "    </tr>\n",
       "    <tr>\n",
       "      <th>4</th>\n",
       "      <td>202103</td>\n",
       "      <td>41-45</td>\n",
       "      <td>13.279606</td>\n",
       "    </tr>\n",
       "    <tr>\n",
       "      <th>...</th>\n",
       "      <td>...</td>\n",
       "      <td>...</td>\n",
       "      <td>...</td>\n",
       "    </tr>\n",
       "    <tr>\n",
       "      <th>331</th>\n",
       "      <td>202302</td>\n",
       "      <td>68-72</td>\n",
       "      <td>17.222977</td>\n",
       "    </tr>\n",
       "    <tr>\n",
       "      <th>332</th>\n",
       "      <td>202302</td>\n",
       "      <td>73-77</td>\n",
       "      <td>16.643431</td>\n",
       "    </tr>\n",
       "    <tr>\n",
       "      <th>333</th>\n",
       "      <td>202302</td>\n",
       "      <td>78-83</td>\n",
       "      <td>17.363259</td>\n",
       "    </tr>\n",
       "    <tr>\n",
       "      <th>334</th>\n",
       "      <td>202302</td>\n",
       "      <td>84-88</td>\n",
       "      <td>17.673521</td>\n",
       "    </tr>\n",
       "    <tr>\n",
       "      <th>335</th>\n",
       "      <td>202302</td>\n",
       "      <td>89-94</td>\n",
       "      <td>17.103067</td>\n",
       "    </tr>\n",
       "  </tbody>\n",
       "</table>\n",
       "<p>336 rows × 3 columns</p>\n",
       "</div>"
      ],
      "text/plain": [
       "    année_mois âge_tranche     panier\n",
       "0       202103       19-24  38.636477\n",
       "1       202103       25-29  36.713139\n",
       "2       202103       30-35  15.751900\n",
       "3       202103       36-40  13.242067\n",
       "4       202103       41-45  13.279606\n",
       "..         ...         ...        ...\n",
       "331     202302       68-72  17.222977\n",
       "332     202302       73-77  16.643431\n",
       "333     202302       78-83  17.363259\n",
       "334     202302       84-88  17.673521\n",
       "335     202302       89-94  17.103067\n",
       "\n",
       "[336 rows x 3 columns]"
      ]
     },
     "execution_count": 34,
     "metadata": {},
     "output_type": "execute_result"
    }
   ],
   "source": [
    "df_age_panier"
   ]
  },
  {
   "cell_type": "code",
   "execution_count": 35,
   "id": "0b0a3ce2",
   "metadata": {},
   "outputs": [],
   "source": [
    "df_age_panier = df_age_panier[['âge_tranche','panier']]"
   ]
  },
  {
   "cell_type": "code",
   "execution_count": 36,
   "id": "29d2b872",
   "metadata": {},
   "outputs": [
    {
     "data": {
      "text/html": [
       "<div>\n",
       "<style scoped>\n",
       "    .dataframe tbody tr th:only-of-type {\n",
       "        vertical-align: middle;\n",
       "    }\n",
       "\n",
       "    .dataframe tbody tr th {\n",
       "        vertical-align: top;\n",
       "    }\n",
       "\n",
       "    .dataframe thead th {\n",
       "        text-align: right;\n",
       "    }\n",
       "</style>\n",
       "<table border=\"1\" class=\"dataframe\">\n",
       "  <thead>\n",
       "    <tr style=\"text-align: right;\">\n",
       "      <th></th>\n",
       "      <th>âge_tranche</th>\n",
       "      <th>panier</th>\n",
       "    </tr>\n",
       "  </thead>\n",
       "  <tbody>\n",
       "    <tr>\n",
       "      <th>0</th>\n",
       "      <td>19-24</td>\n",
       "      <td>38.636477</td>\n",
       "    </tr>\n",
       "    <tr>\n",
       "      <th>1</th>\n",
       "      <td>25-29</td>\n",
       "      <td>36.713139</td>\n",
       "    </tr>\n",
       "    <tr>\n",
       "      <th>2</th>\n",
       "      <td>30-35</td>\n",
       "      <td>15.751900</td>\n",
       "    </tr>\n",
       "    <tr>\n",
       "      <th>3</th>\n",
       "      <td>36-40</td>\n",
       "      <td>13.242067</td>\n",
       "    </tr>\n",
       "    <tr>\n",
       "      <th>4</th>\n",
       "      <td>41-45</td>\n",
       "      <td>13.279606</td>\n",
       "    </tr>\n",
       "    <tr>\n",
       "      <th>...</th>\n",
       "      <td>...</td>\n",
       "      <td>...</td>\n",
       "    </tr>\n",
       "    <tr>\n",
       "      <th>331</th>\n",
       "      <td>68-72</td>\n",
       "      <td>17.222977</td>\n",
       "    </tr>\n",
       "    <tr>\n",
       "      <th>332</th>\n",
       "      <td>73-77</td>\n",
       "      <td>16.643431</td>\n",
       "    </tr>\n",
       "    <tr>\n",
       "      <th>333</th>\n",
       "      <td>78-83</td>\n",
       "      <td>17.363259</td>\n",
       "    </tr>\n",
       "    <tr>\n",
       "      <th>334</th>\n",
       "      <td>84-88</td>\n",
       "      <td>17.673521</td>\n",
       "    </tr>\n",
       "    <tr>\n",
       "      <th>335</th>\n",
       "      <td>89-94</td>\n",
       "      <td>17.103067</td>\n",
       "    </tr>\n",
       "  </tbody>\n",
       "</table>\n",
       "<p>336 rows × 2 columns</p>\n",
       "</div>"
      ],
      "text/plain": [
       "    âge_tranche     panier\n",
       "0         19-24  38.636477\n",
       "1         25-29  36.713139\n",
       "2         30-35  15.751900\n",
       "3         36-40  13.242067\n",
       "4         41-45  13.279606\n",
       "..          ...        ...\n",
       "331       68-72  17.222977\n",
       "332       73-77  16.643431\n",
       "333       78-83  17.363259\n",
       "334       84-88  17.673521\n",
       "335       89-94  17.103067\n",
       "\n",
       "[336 rows x 2 columns]"
      ]
     },
     "execution_count": 36,
     "metadata": {},
     "output_type": "execute_result"
    }
   ],
   "source": [
    "df_age_panier"
   ]
  },
  {
   "cell_type": "code",
   "execution_count": 37,
   "id": "33c37a9f",
   "metadata": {},
   "outputs": [
    {
     "data": {
      "image/png": "[encoded data removed]",
      "text/plain": [
       "<Figure size 432x288 with 1 Axes>"
      ]
     },
     "metadata": {
      "needs_background": "light"
     },
     "output_type": "display_data"
    }
   ],
   "source": [
    "plt.plot(df_age_panier[\"âge_tranche\"],df_age_panier[\"panier\"],'o')\n",
    "plt.xlabel(\"âge\")\n",
    "plt.ylabel(\"fréquence\")\n",
    "plt.xticks(rotation = 45,ha='right')\n",
    "plt.show()"
   ]
  },
  {
   "cell_type": "code",
   "execution_count": 38,
   "id": "b8da004e",
   "metadata": {},
   "outputs": [
    {
     "data": {
      "image/png": "[encoded data removed]",
      "text/plain": [
       "<Figure size 648x432 with 1 Axes>"
      ]
     },
     "metadata": {
      "needs_background": "light"
     },
     "output_type": "display_data"
    }
   ],
   "source": [
    "fig = plt.figure(1, figsize=(9,6))\n",
    "sns.boxplot(x='âge_tranche',y='panier',data=df_age_panier, showfliers=True)\n",
    "plt.title('Panier par tranche d\\'âge')\n",
    "plt.grid()\n",
    "plt.show()"
   ]
  },
  {
   "cell_type": "code",
   "execution_count": 39,
   "id": "69692499",
   "metadata": {},
   "outputs": [],
   "source": [
    "lm_1 = ols('panier ~ âge_tranche', data = df_age_panier).fit()\n",
    "import statsmodels.api; \n",
    "table_1 = sm.stats.anova_lm(lm_1)"
   ]
  },
  {
   "cell_type": "code",
   "execution_count": 40,
   "id": "0a396375",
   "metadata": {},
   "outputs": [
    {
     "data": {
      "text/html": [
       "<div>\n",
       "<style scoped>\n",
       "    .dataframe tbody tr th:only-of-type {\n",
       "        vertical-align: middle;\n",
       "    }\n",
       "\n",
       "    .dataframe tbody tr th {\n",
       "        vertical-align: top;\n",
       "    }\n",
       "\n",
       "    .dataframe thead th {\n",
       "        text-align: right;\n",
       "    }\n",
       "</style>\n",
       "<table border=\"1\" class=\"dataframe\">\n",
       "  <thead>\n",
       "    <tr style=\"text-align: right;\">\n",
       "      <th></th>\n",
       "      <th>df</th>\n",
       "      <th>sum_sq</th>\n",
       "      <th>mean_sq</th>\n",
       "      <th>F</th>\n",
       "      <th>PR(&gt;F)</th>\n",
       "    </tr>\n",
       "  </thead>\n",
       "  <tbody>\n",
       "    <tr>\n",
       "      <th>âge_tranche</th>\n",
       "      <td>13.0</td>\n",
       "      <td>25474.406929</td>\n",
       "      <td>1959.569764</td>\n",
       "      <td>798.385548</td>\n",
       "      <td>4.795398e-236</td>\n",
       "    </tr>\n",
       "    <tr>\n",
       "      <th>Residual</th>\n",
       "      <td>322.0</td>\n",
       "      <td>790.321750</td>\n",
       "      <td>2.454415</td>\n",
       "      <td>NaN</td>\n",
       "      <td>NaN</td>\n",
       "    </tr>\n",
       "  </tbody>\n",
       "</table>\n",
       "</div>"
      ],
      "text/plain": [
       "                df        sum_sq      mean_sq           F         PR(>F)\n",
       "âge_tranche   13.0  25474.406929  1959.569764  798.385548  4.795398e-236\n",
       "Residual     322.0    790.321750     2.454415         NaN            NaN"
      ]
     },
     "execution_count": 40,
     "metadata": {},
     "output_type": "execute_result"
    }
   ],
   "source": [
    "table_1"
   ]
  },
  {
   "cell_type": "code",
   "execution_count": 41,
   "id": "f31cead9",
   "metadata": {},
   "outputs": [
    {
     "data": {
      "text/html": [
       "<table class=\"simpletable\">\n",
       "<caption>OLS Regression Results</caption>\n",
       "<tr>\n",
       "  <th>Dep. Variable:</th>         <td>panier</td>      <th>  R-squared:         </th> <td>   0.970</td> \n",
       "</tr>\n",
       "<tr>\n",
       "  <th>Model:</th>                   <td>OLS</td>       <th>  Adj. R-squared:    </th> <td>   0.969</td> \n",
       "</tr>\n",
       "<tr>\n",
       "  <th>Method:</th>             <td>Least Squares</td>  <th>  F-statistic:       </th> <td>   798.4</td> \n",
       "</tr>\n",
       "<tr>\n",
       "  <th>Date:</th>             <td>Mon, 27 Sep 2021</td> <th>  Prob (F-statistic):</th> <td>4.80e-236</td>\n",
       "</tr>\n",
       "<tr>\n",
       "  <th>Time:</th>                 <td>10:20:06</td>     <th>  Log-Likelihood:    </th> <td> -620.46</td> \n",
       "</tr>\n",
       "<tr>\n",
       "  <th>No. Observations:</th>      <td>   336</td>      <th>  AIC:               </th> <td>   1269.</td> \n",
       "</tr>\n",
       "<tr>\n",
       "  <th>Df Residuals:</th>          <td>   322</td>      <th>  BIC:               </th> <td>   1322.</td> \n",
       "</tr>\n",
       "<tr>\n",
       "  <th>Df Model:</th>              <td>    13</td>      <th>                     </th>     <td> </td>    \n",
       "</tr>\n",
       "<tr>\n",
       "  <th>Covariance Type:</th>      <td>nonrobust</td>    <th>                     </th>     <td> </td>    \n",
       "</tr>\n",
       "</table>\n",
       "<table class=\"simpletable\">\n",
       "<tr>\n",
       "            <td></td>              <th>coef</th>     <th>std err</th>      <th>t</th>      <th>P>|t|</th>  <th>[0.025</th>    <th>0.975]</th>  \n",
       "</tr>\n",
       "<tr>\n",
       "  <th>Intercept</th>            <td>   40.0057</td> <td>    0.320</td> <td>  125.099</td> <td> 0.000</td> <td>   39.377</td> <td>   40.635</td>\n",
       "</tr>\n",
       "<tr>\n",
       "  <th>âge_tranche[T.25-29]</th> <td>    0.7299</td> <td>    0.452</td> <td>    1.614</td> <td> 0.108</td> <td>   -0.160</td> <td>    1.620</td>\n",
       "</tr>\n",
       "<tr>\n",
       "  <th>âge_tranche[T.30-35]</th> <td>  -23.5524</td> <td>    0.452</td> <td>  -52.078</td> <td> 0.000</td> <td>  -24.442</td> <td>  -22.663</td>\n",
       "</tr>\n",
       "<tr>\n",
       "  <th>âge_tranche[T.36-40]</th> <td>  -26.8203</td> <td>    0.452</td> <td>  -59.303</td> <td> 0.000</td> <td>  -27.710</td> <td>  -25.931</td>\n",
       "</tr>\n",
       "<tr>\n",
       "  <th>âge_tranche[T.41-45]</th> <td>  -26.6926</td> <td>    0.452</td> <td>  -59.021</td> <td> 0.000</td> <td>  -27.582</td> <td>  -25.803</td>\n",
       "</tr>\n",
       "<tr>\n",
       "  <th>âge_tranche[T.46-51]</th> <td>  -26.7927</td> <td>    0.452</td> <td>  -59.242</td> <td> 0.000</td> <td>  -27.682</td> <td>  -25.903</td>\n",
       "</tr>\n",
       "<tr>\n",
       "  <th>âge_tranche[T.52-56]</th> <td>  -23.3153</td> <td>    0.452</td> <td>  -51.553</td> <td> 0.000</td> <td>  -24.205</td> <td>  -22.426</td>\n",
       "</tr>\n",
       "<tr>\n",
       "  <th>âge_tranche[T.57-61]</th> <td>  -23.2816</td> <td>    0.452</td> <td>  -51.479</td> <td> 0.000</td> <td>  -24.171</td> <td>  -22.392</td>\n",
       "</tr>\n",
       "<tr>\n",
       "  <th>âge_tranche[T.62-67]</th> <td>  -23.2398</td> <td>    0.452</td> <td>  -51.386</td> <td> 0.000</td> <td>  -24.130</td> <td>  -22.350</td>\n",
       "</tr>\n",
       "<tr>\n",
       "  <th>âge_tranche[T.68-72]</th> <td>  -23.3812</td> <td>    0.452</td> <td>  -51.699</td> <td> 0.000</td> <td>  -24.271</td> <td>  -22.491</td>\n",
       "</tr>\n",
       "<tr>\n",
       "  <th>âge_tranche[T.73-77]</th> <td>  -23.5471</td> <td>    0.452</td> <td>  -52.066</td> <td> 0.000</td> <td>  -24.437</td> <td>  -22.657</td>\n",
       "</tr>\n",
       "<tr>\n",
       "  <th>âge_tranche[T.78-83]</th> <td>  -23.2680</td> <td>    0.452</td> <td>  -51.449</td> <td> 0.000</td> <td>  -24.158</td> <td>  -22.378</td>\n",
       "</tr>\n",
       "<tr>\n",
       "  <th>âge_tranche[T.84-88]</th> <td>  -23.0156</td> <td>    0.452</td> <td>  -50.891</td> <td> 0.000</td> <td>  -23.905</td> <td>  -22.126</td>\n",
       "</tr>\n",
       "<tr>\n",
       "  <th>âge_tranche[T.89-94]</th> <td>  -23.5056</td> <td>    0.452</td> <td>  -51.974</td> <td> 0.000</td> <td>  -24.395</td> <td>  -22.616</td>\n",
       "</tr>\n",
       "</table>\n",
       "<table class=\"simpletable\">\n",
       "<tr>\n",
       "  <th>Omnibus:</th>       <td>174.123</td> <th>  Durbin-Watson:     </th> <td>   0.868</td>\n",
       "</tr>\n",
       "<tr>\n",
       "  <th>Prob(Omnibus):</th> <td> 0.000</td>  <th>  Jarque-Bera (JB):  </th> <td>3324.212</td>\n",
       "</tr>\n",
       "<tr>\n",
       "  <th>Skew:</th>          <td>-1.682</td>  <th>  Prob(JB):          </th> <td>    0.00</td>\n",
       "</tr>\n",
       "<tr>\n",
       "  <th>Kurtosis:</th>      <td>18.038</td>  <th>  Cond. No.          </th> <td>    14.9</td>\n",
       "</tr>\n",
       "</table><br/><br/>Notes:<br/>[1] Standard Errors assume that the covariance matrix of the errors is correctly specified."
      ],
      "text/plain": [
       "<class 'statsmodels.iolib.summary.Summary'>\n",
       "\"\"\"\n",
       "                            OLS Regression Results                            \n",
       "==============================================================================\n",
       "Dep. Variable:                 panier   R-squared:                       0.970\n",
       "Model:                            OLS   Adj. R-squared:                  0.969\n",
       "Method:                 Least Squares   F-statistic:                     798.4\n",
       "Date:                Mon, 27 Sep 2021   Prob (F-statistic):          4.80e-236\n",
       "Time:                        10:20:06   Log-Likelihood:                -620.46\n",
       "No. Observations:                 336   AIC:                             1269.\n",
       "Df Residuals:                     322   BIC:                             1322.\n",
       "Df Model:                          13                                         \n",
       "Covariance Type:            nonrobust                                         \n",
       "========================================================================================\n",
       "                           coef    std err          t      P>|t|      [0.025      0.975]\n",
       "----------------------------------------------------------------------------------------\n",
       "Intercept               40.0057      0.320    125.099      0.000      39.377      40.635\n",
       "âge_tranche[T.25-29]     0.7299      0.452      1.614      0.108      -0.160       1.620\n",
       "âge_tranche[T.30-35]   -23.5524      0.452    -52.078      0.000     -24.442     -22.663\n",
       "âge_tranche[T.36-40]   -26.8203      0.452    -59.303      0.000     -27.710     -25.931\n",
       "âge_tranche[T.41-45]   -26.6926      0.452    -59.021      0.000     -27.582     -25.803\n",
       "âge_tranche[T.46-51]   -26.7927      0.452    -59.242      0.000     -27.682     -25.903\n",
       "âge_tranche[T.52-56]   -23.3153      0.452    -51.553      0.000     -24.205     -22.426\n",
       "âge_tranche[T.57-61]   -23.2816      0.452    -51.479      0.000     -24.171     -22.392\n",
       "âge_tranche[T.62-67]   -23.2398      0.452    -51.386      0.000     -24.130     -22.350\n",
       "âge_tranche[T.68-72]   -23.3812      0.452    -51.699      0.000     -24.271     -22.491\n",
       "âge_tranche[T.73-77]   -23.5471      0.452    -52.066      0.000     -24.437     -22.657\n",
       "âge_tranche[T.78-83]   -23.2680      0.452    -51.449      0.000     -24.158     -22.378\n",
       "âge_tranche[T.84-88]   -23.0156      0.452    -50.891      0.000     -23.905     -22.126\n",
       "âge_tranche[T.89-94]   -23.5056      0.452    -51.974      0.000     -24.395     -22.616\n",
       "==============================================================================\n",
       "Omnibus:                      174.123   Durbin-Watson:                   0.868\n",
       "Prob(Omnibus):                  0.000   Jarque-Bera (JB):             3324.212\n",
       "Skew:                          -1.682   Prob(JB):                         0.00\n",
       "Kurtosis:                      18.038   Cond. No.                         14.9\n",
       "==============================================================================\n",
       "\n",
       "Notes:\n",
       "[1] Standard Errors assume that the covariance matrix of the errors is correctly specified.\n",
       "\"\"\""
      ]
     },
     "execution_count": 41,
     "metadata": {},
     "output_type": "execute_result"
    }
   ],
   "source": [
    "lm_1.summary()"
   ]
  },
  {
   "cell_type": "markdown",
   "id": "5fa17577",
   "metadata": {},
   "source": [
    "Avec un p-value inférieur à 0.05 %, on peut rejeter l'hypothèse H0 et un Eta² de 0.970 indique une forte corrélation entre les variables."
   ]
  },
  {
   "cell_type": "markdown",
   "id": "6eedb007",
   "metadata": {},
   "source": [
    "# Test de corrélation : Age et catégorie de produit"
   ]
  },
  {
   "cell_type": "markdown",
   "id": "f71a8868",
   "metadata": {},
   "source": [
    "Je prends comme variable ma colonne age_tranche afin de faire un test de Khi²"
   ]
  },
  {
   "cell_type": "code",
   "execution_count": 42,
   "id": "2bf848d0",
   "metadata": {},
   "outputs": [],
   "source": [
    "df_age_categ = df[['âge_tranche','categ']]"
   ]
  },
  {
   "cell_type": "code",
   "execution_count": 43,
   "id": "230dd3ea",
   "metadata": {
    "scrolled": true
   },
   "outputs": [
    {
     "data": {
      "text/html": [
       "<div>\n",
       "<style scoped>\n",
       "    .dataframe tbody tr th:only-of-type {\n",
       "        vertical-align: middle;\n",
       "    }\n",
       "\n",
       "    .dataframe tbody tr th {\n",
       "        vertical-align: top;\n",
       "    }\n",
       "\n",
       "    .dataframe thead th {\n",
       "        text-align: right;\n",
       "    }\n",
       "</style>\n",
       "<table border=\"1\" class=\"dataframe\">\n",
       "  <thead>\n",
       "    <tr style=\"text-align: right;\">\n",
       "      <th>categ</th>\n",
       "      <th>0</th>\n",
       "      <th>1</th>\n",
       "      <th>2</th>\n",
       "      <th>Total</th>\n",
       "    </tr>\n",
       "    <tr>\n",
       "      <th>âge_tranche</th>\n",
       "      <th></th>\n",
       "      <th></th>\n",
       "      <th></th>\n",
       "      <th></th>\n",
       "    </tr>\n",
       "  </thead>\n",
       "  <tbody>\n",
       "    <tr>\n",
       "      <th>19-24</th>\n",
       "      <td>8601</td>\n",
       "      <td>14222</td>\n",
       "      <td>14997</td>\n",
       "      <td>37820</td>\n",
       "    </tr>\n",
       "    <tr>\n",
       "      <th>25-29</th>\n",
       "      <td>5813</td>\n",
       "      <td>9897</td>\n",
       "      <td>10763</td>\n",
       "      <td>26473</td>\n",
       "    </tr>\n",
       "    <tr>\n",
       "      <th>30-35</th>\n",
       "      <td>60527</td>\n",
       "      <td>21475</td>\n",
       "      <td>4441</td>\n",
       "      <td>86443</td>\n",
       "    </tr>\n",
       "    <tr>\n",
       "      <th>36-40</th>\n",
       "      <td>75737</td>\n",
       "      <td>23497</td>\n",
       "      <td>320</td>\n",
       "      <td>99554</td>\n",
       "    </tr>\n",
       "    <tr>\n",
       "      <th>41-45</th>\n",
       "      <td>83787</td>\n",
       "      <td>26260</td>\n",
       "      <td>450</td>\n",
       "      <td>110497</td>\n",
       "    </tr>\n",
       "    <tr>\n",
       "      <th>46-51</th>\n",
       "      <td>81656</td>\n",
       "      <td>25547</td>\n",
       "      <td>383</td>\n",
       "      <td>107586</td>\n",
       "    </tr>\n",
       "    <tr>\n",
       "      <th>52-56</th>\n",
       "      <td>19131</td>\n",
       "      <td>24421</td>\n",
       "      <td>402</td>\n",
       "      <td>43954</td>\n",
       "    </tr>\n",
       "    <tr>\n",
       "      <th>57-61</th>\n",
       "      <td>15614</td>\n",
       "      <td>20410</td>\n",
       "      <td>309</td>\n",
       "      <td>36333</td>\n",
       "    </tr>\n",
       "    <tr>\n",
       "      <th>62-67</th>\n",
       "      <td>15491</td>\n",
       "      <td>19485</td>\n",
       "      <td>349</td>\n",
       "      <td>35325</td>\n",
       "    </tr>\n",
       "    <tr>\n",
       "      <th>68-72</th>\n",
       "      <td>8860</td>\n",
       "      <td>11559</td>\n",
       "      <td>171</td>\n",
       "      <td>20590</td>\n",
       "    </tr>\n",
       "    <tr>\n",
       "      <th>73-77</th>\n",
       "      <td>5503</td>\n",
       "      <td>6726</td>\n",
       "      <td>101</td>\n",
       "      <td>12330</td>\n",
       "    </tr>\n",
       "    <tr>\n",
       "      <th>78-83</th>\n",
       "      <td>4115</td>\n",
       "      <td>5513</td>\n",
       "      <td>93</td>\n",
       "      <td>9721</td>\n",
       "    </tr>\n",
       "    <tr>\n",
       "      <th>84-88</th>\n",
       "      <td>1898</td>\n",
       "      <td>2320</td>\n",
       "      <td>55</td>\n",
       "      <td>4273</td>\n",
       "    </tr>\n",
       "    <tr>\n",
       "      <th>89-94</th>\n",
       "      <td>760</td>\n",
       "      <td>1016</td>\n",
       "      <td>14</td>\n",
       "      <td>1790</td>\n",
       "    </tr>\n",
       "    <tr>\n",
       "      <th>Total</th>\n",
       "      <td>387493</td>\n",
       "      <td>212348</td>\n",
       "      <td>32848</td>\n",
       "      <td>632689</td>\n",
       "    </tr>\n",
       "  </tbody>\n",
       "</table>\n",
       "</div>"
      ],
      "text/plain": [
       "categ             0       1      2   Total\n",
       "âge_tranche                               \n",
       "19-24          8601   14222  14997   37820\n",
       "25-29          5813    9897  10763   26473\n",
       "30-35         60527   21475   4441   86443\n",
       "36-40         75737   23497    320   99554\n",
       "41-45         83787   26260    450  110497\n",
       "46-51         81656   25547    383  107586\n",
       "52-56         19131   24421    402   43954\n",
       "57-61         15614   20410    309   36333\n",
       "62-67         15491   19485    349   35325\n",
       "68-72          8860   11559    171   20590\n",
       "73-77          5503    6726    101   12330\n",
       "78-83          4115    5513     93    9721\n",
       "84-88          1898    2320     55    4273\n",
       "89-94           760    1016     14    1790\n",
       "Total        387493  212348  32848  632689"
      ]
     },
     "execution_count": 43,
     "metadata": {},
     "output_type": "execute_result"
    }
   ],
   "source": [
    "# Je crée mon tableau de contingence\n",
    "X = \"âge_tranche\"\n",
    "Y = \"categ\"\n",
    "\n",
    "cont_2 = df[[X,Y]].pivot_table(index=X,columns=Y,aggfunc=len,margins=True,margins_name=\"Total\")\n",
    "cont_2"
   ]
  },
  {
   "cell_type": "code",
   "execution_count": 44,
   "id": "bd2840de",
   "metadata": {},
   "outputs": [],
   "source": [
    "chi2_2, p_2, dof, exp = chi2_contingency(cont_2)"
   ]
  },
  {
   "cell_type": "code",
   "execution_count": 58,
   "id": "b358567b",
   "metadata": {},
   "outputs": [
    {
     "data": {
      "text/plain": [
       "242695.9059372266"
      ]
     },
     "execution_count": 58,
     "metadata": {},
     "output_type": "execute_result"
    }
   ],
   "source": [
    "chi2_2"
   ]
  },
  {
   "cell_type": "code",
   "execution_count": 59,
   "id": "54a4f8e6",
   "metadata": {},
   "outputs": [
    {
     "data": {
      "text/plain": [
       "0.0"
      ]
     },
     "execution_count": 59,
     "metadata": {},
     "output_type": "execute_result"
    }
   ],
   "source": [
    "p_2"
   ]
  },
  {
   "cell_type": "code",
   "execution_count": 47,
   "id": "5b087e58",
   "metadata": {},
   "outputs": [
    {
     "data": {
      "image/png": "[encoded data removed]",
      "text/plain": [
       "<Figure size 432x288 with 2 Axes>"
      ]
     },
     "metadata": {
      "needs_background": "light"
     },
     "output_type": "display_data"
    }
   ],
   "source": [
    "tx = cont_2.loc[:,[\"Total\"]]\n",
    "ty = cont_2.loc[[\"Total\"],:]\n",
    "n = len(df)\n",
    "indep = tx.dot(ty) / n\n",
    "\n",
    "c = cont_2.fillna(0) # On remplace les valeurs nulles par 0\n",
    "measure = (c-indep)**2/indep\n",
    "xi_n = measure.sum().sum()\n",
    "table = measure/xi_n\n",
    "sns.heatmap(table.iloc[:-1,:-1],annot=c.iloc[:-1,:-1])\n",
    "plt.show()"
   ]
  },
  {
   "cell_type": "markdown",
   "id": "9bbcbe5d",
   "metadata": {},
   "source": [
    "Il y a une forte corrélation entre les personnes âgés de 19-24 ans et les 25-29 ans pour la catégorie 2 des produits."
   ]
  },
  {
   "cell_type": "markdown",
   "id": "04b6332b",
   "metadata": {},
   "source": [
    "# Probabilité"
   ]
  },
  {
   "cell_type": "code",
   "execution_count": 48,
   "id": "8adf6def",
   "metadata": {},
   "outputs": [
    {
     "name": "stdout",
     "output_type": "stream",
     "text": [
      "8596\n"
     ]
    }
   ],
   "source": [
    "# Calcul du nombre de clients\n",
    "client_total = df.client_id.nunique();\n",
    "print(client_total)"
   ]
  },
  {
   "cell_type": "code",
   "execution_count": 49,
   "id": "45509e4a",
   "metadata": {},
   "outputs": [],
   "source": [
    "client_2_159 = df.loc[df['id_prod']=='2_159',]"
   ]
  },
  {
   "cell_type": "code",
   "execution_count": 50,
   "id": "01c18ada",
   "metadata": {},
   "outputs": [
    {
     "data": {
      "text/plain": [
       "526"
      ]
     },
     "execution_count": 50,
     "metadata": {},
     "output_type": "execute_result"
    }
   ],
   "source": [
    "client_2_159.client_id.nunique()"
   ]
  },
  {
   "cell_type": "code",
   "execution_count": 51,
   "id": "59d665d0",
   "metadata": {},
   "outputs": [],
   "source": [
    "client_0_525 = df.loc[df['id_prod']=='0_525',]"
   ]
  },
  {
   "cell_type": "code",
   "execution_count": 52,
   "id": "f750df9e",
   "metadata": {},
   "outputs": [
    {
     "data": {
      "text/plain": [
       "455"
      ]
     },
     "execution_count": 52,
     "metadata": {},
     "output_type": "execute_result"
    }
   ],
   "source": [
    "client_0_525.client_id.nunique()"
   ]
  },
  {
   "cell_type": "code",
   "execution_count": 53,
   "id": "0eab95d4",
   "metadata": {},
   "outputs": [
    {
     "name": "stdout",
     "output_type": "stream",
     "text": [
      "6.119125174499768\n"
     ]
    }
   ],
   "source": [
    "# Calcul de la probabilité qu'un client achète l'article 2_159 :\n",
    "p_2_159 = 526/8596\n",
    "print(p_2_159*100)"
   ]
  },
  {
   "cell_type": "code",
   "execution_count": 54,
   "id": "e718b3d9",
   "metadata": {},
   "outputs": [
    {
     "name": "stdout",
     "output_type": "stream",
     "text": [
      "5.293159609120521\n"
     ]
    }
   ],
   "source": [
    "# Calcul de la probabilité qu'un client achète l'article 0_525 :\n",
    "p_0_525 = 455/8596\n",
    "print(p_0_525*100)"
   ]
  },
  {
   "cell_type": "code",
   "execution_count": 55,
   "id": "65f997a0",
   "metadata": {},
   "outputs": [
    {
     "name": "stdout",
     "output_type": "stream",
     "text": [
      "86.50190114068441\n"
     ]
    }
   ],
   "source": [
    "# Calcul de la probabilité qu'un client qui a acheté l'article 2_159 achète l'article 0_525 : \n",
    "p_2_articles = p_0_525/ p_2_159*100\n",
    "print(p_2_articles)"
   ]
  },
  {
   "cell_type": "code",
   "execution_count": 56,
   "id": "cccc3d0a",
   "metadata": {},
   "outputs": [
    {
     "data": {
      "text/plain": [
       "86.50190114068441"
      ]
     },
     "execution_count": 56,
     "metadata": {},
     "output_type": "execute_result"
    }
   ],
   "source": [
    "# Il est aussi possible de trouver cette propabilité en divisant le nombre de personnes qui ont acheté l'article 0_525\n",
    "# par le nombre de personnes qui ont acheté l'article 2_159:\n",
    "\n",
    "455/526*100"
   ]
  },
  {
   "cell_type": "markdown",
   "id": "127c0f79",
   "metadata": {},
   "source": [
    "##### "
   ]
  }
 ],
 "metadata": {
  "kernelspec": {
   "display_name": "Python 3",
   "language": "python",
   "name": "python3"
  },
  "language_info": {
   "codemirror_mode": {
    "name": "ipython",
    "version": 3
   },
   "file_extension": ".py",
   "mimetype": "text/x-python",
   "name": "python",
   "nbconvert_exporter": "python",
   "pygments_lexer": "ipython3",
   "version": "3.8.8"
  }
 },
 "nbformat": 4,
 "nbformat_minor": 5
}
